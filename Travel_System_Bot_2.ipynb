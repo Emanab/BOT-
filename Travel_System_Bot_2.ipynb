{
 "cells": [
  {
   "cell_type": "markdown",
   "metadata": {},
   "source": [
    "## Introduction:\n",
    "\n",
    "This notebook is written in light of the below link:\n",
    "\n",
    "https://colab.research.google.com/github/RasaHQ/rasa_core/blob/master/getting_started.ipynb#scrollTo=zQxY6m6kvlj3"
   ]
  },
  {
   "cell_type": "code",
   "execution_count": null,
   "metadata": {},
   "outputs": [],
   "source": [
    "# !pip install -U git+https://github.com/rasahq/rasa_core.git"
   ]
  },
  {
   "cell_type": "code",
   "execution_count": null,
   "metadata": {},
   "outputs": [],
   "source": [
    "# !pip install rasa_core;"
   ]
  },
  {
   "cell_type": "code",
   "execution_count": null,
   "metadata": {},
   "outputs": [],
   "source": [
    "import logging\n",
    "from rasa_core import training\n",
    "from rasa_core.actions import Action\n",
    "from rasa_core.agent import Agent\n",
    "from rasa_core.domain import Domain\n",
    "from rasa_core.policies.keras_policy import KerasPolicy\n",
    "from rasa_core.policies.memoization import MemoizationPolicy\n",
    "from rasa_core.featurizers import MaxHistoryTrackerFeaturizer, BinarySingleStateFeaturizer\n",
    "\n",
    "## for NLU!\n",
    "from rasa_nlu.training_data import load_data\n",
    "from rasa_nlu.config import RasaNLUModelConfig\n",
    "from rasa_nlu.model import Trainer\n",
    "\n",
    "\n",
    "## visualize the stories .. \n",
    "from rasa_core.agent import Agent\n",
    "from IPython.display import IFrame\n",
    "\n",
    "\n",
    "import logging, io, json, warnings\n",
    "logging.basicConfig(level=\"INFO\")\n",
    "warnings.filterwarnings('ignore')"
   ]
  },
  {
   "cell_type": "code",
   "execution_count": null,
   "metadata": {},
   "outputs": [],
   "source": [
    "agent = Agent('domain.yml', policies=[MemoizationPolicy(max_history=4), KerasPolicy()])\n",
    "training_data = agent.load_data('stories.md')\n",
    "agent.train(\n",
    "        training_data,\n",
    "        validation_split=0.30,\n",
    "        epoch=200, \n",
    "        num_features = 5,\n",
    "        max_dialogue_length = 10,\n",
    "        num_stories = 100,\n",
    "        augmentation_factor=1000\n",
    "    \n",
    "    ## featurizer\n",
    "#https://rasa.com/docs/core/0.10.4/policies/\n",
    "#     interpreter=interpreter,\n",
    "#     generator=generator,\n",
    "#     tracker_store=tracker_store,\n",
    "#     action_endpoint=action_endpoint\n",
    ")"
   ]
  },
  {
   "cell_type": "code",
   "execution_count": null,
   "metadata": {},
   "outputs": [],
   "source": [
    "agent.persist('models/dialogue')"
   ]
  },
  {
   "cell_type": "code",
   "execution_count": null,
   "metadata": {},
   "outputs": [],
   "source": [
    "agent = Agent.load('models/dialogue')\n",
    "agent"
   ]
  },
  {
   "cell_type": "markdown",
   "metadata": {},
   "source": [
    "## Talking to the bot .. \n",
    "\n",
    "No NLU yet!"
   ]
  },
  {
   "cell_type": "code",
   "execution_count": null,
   "metadata": {},
   "outputs": [],
   "source": [
    "# print(\"Your bot is ready to talk! Type your messages here or send 'stop'\")\n",
    "# while True:\n",
    "#     a = input()\n",
    "#     if a == 'stop':\n",
    "#         break\n",
    "#     responses = agent.handle_text(a)\n",
    "#     for response in responses:\n",
    "#         print(response[\"text\"])"
   ]
  },
  {
   "cell_type": "markdown",
   "metadata": {},
   "source": [
    "## Adding NLU: \n",
    "\n",
    "To allow for more intelligence .. "
   ]
  },
  {
   "cell_type": "code",
   "execution_count": null,
   "metadata": {},
   "outputs": [],
   "source": [
    "# !pip install git+git://github.com/pygraphviz/pygraphviz.git;"
   ]
  },
  {
   "cell_type": "code",
   "execution_count": null,
   "metadata": {},
   "outputs": [],
   "source": [
    "# !pip install rasa_nlu[spacy];\n",
    "# !python -m spacy download en;"
   ]
  },
  {
   "cell_type": "code",
   "execution_count": null,
   "metadata": {},
   "outputs": [],
   "source": [
    "training_data = load_data('./nlu_data.json')\n",
    "training_data"
   ]
  },
  {
   "cell_type": "code",
   "execution_count": null,
   "metadata": {},
   "outputs": [],
   "source": [
    "pipeline = [{\"name\": \"nlp_spacy\"}, \n",
    "            {\"name\": \"tokenizer_spacy\"}, \n",
    "            {\"name\": \"intent_featurizer_spacy\"},  \n",
    "            {\"name\": \"intent_classifier_sklearn\"}]"
   ]
  },
  {
   "cell_type": "code",
   "execution_count": null,
   "metadata": {},
   "outputs": [],
   "source": [
    "trainer = Trainer(RasaNLUModelConfig({\"pipeline\": pipeline}))\n",
    "trainer"
   ]
  },
  {
   "cell_type": "code",
   "execution_count": null,
   "metadata": {},
   "outputs": [],
   "source": [
    "interpreter = trainer.train(training_data)\n",
    "interpreter"
   ]
  },
  {
   "cell_type": "code",
   "execution_count": null,
   "metadata": {
    "scrolled": true
   },
   "outputs": [],
   "source": [
    "model_directory = trainer.persist('./projects/default/')"
   ]
  },
  {
   "cell_type": "code",
   "execution_count": null,
   "metadata": {},
   "outputs": [],
   "source": [
    "agent = Agent.load('models/dialogue', interpreter=model_directory)\n",
    "agent"
   ]
  },
  {
   "cell_type": "markdown",
   "metadata": {},
   "source": [
    "## Talking to the Bot:\n",
    "\n",
    "NLU is added!"
   ]
  },
  {
   "cell_type": "code",
   "execution_count": null,
   "metadata": {},
   "outputs": [],
   "source": [
    "print(\"Your bot is ready to talk! Type your messages here or send 'stop'\")\n",
    "while True:\n",
    "    a = input()\n",
    "    if a == 'stop':\n",
    "        break\n",
    "    responses = agent.handle_text(a)\n",
    "    for response in responses:\n",
    "        print(response[\"text\"])"
   ]
  },
  {
   "cell_type": "markdown",
   "metadata": {},
   "source": [
    "## Visualizing the stories:"
   ]
  },
  {
   "cell_type": "code",
   "execution_count": 17,
   "metadata": {},
   "outputs": [
    {
     "name": "stderr",
     "output_type": "stream",
     "text": [
      "WARNING:rasa_core.interpreter:Invalid to parse arguments in line 'inform_travel{\"meal\": Show me samples\"}'. Failed to decode parametersas a json object. Make sure the intentfollowed by a proper json object. Error: Expecting value: line 1 column 10 (char 9)\n",
      "Processed Story Blocks: 100%|█████████████████████████████████████████| 102/102 [00:00<00:00, 482.42it/s, # trackers=1]\n"
     ]
    }
   ],
   "source": [
    "agent = Agent.load('models/dialogue')\n",
    "agent.visualize(\"stories.md\", \"story_graph.html\", max_history=2)"
   ]
  },
  {
   "cell_type": "code",
   "execution_count": 18,
   "metadata": {},
   "outputs": [
    {
     "data": {
      "text/html": [
       "\n",
       "        <iframe\n",
       "            width=\"1000\"\n",
       "            height=\"800\"\n",
       "            src=\"./story_graph.html\"\n",
       "            frameborder=\"0\"\n",
       "            allowfullscreen\n",
       "        ></iframe>\n",
       "        "
      ],
      "text/plain": [
       "<IPython.lib.display.IFrame at 0x26d362eefd0>"
      ]
     },
     "execution_count": 18,
     "metadata": {},
     "output_type": "execute_result"
    }
   ],
   "source": [
    "IFrame(src=\"./story_graph.html\", width=1000, height=800)"
   ]
  },
  {
   "cell_type": "markdown",
   "metadata": {},
   "source": [
    "End of the first tutorial!"
   ]
  },
  {
   "cell_type": "code",
   "execution_count": null,
   "metadata": {},
   "outputs": [],
   "source": []
  },
  {
   "cell_type": "code",
   "execution_count": null,
   "metadata": {},
   "outputs": [],
   "source": []
  }
 ],
 "metadata": {
  "kernelspec": {
   "display_name": "Python 3",
   "language": "python",
   "name": "python3"
  },
  "language_info": {
   "codemirror_mode": {
    "name": "ipython",
    "version": 3
   },
   "file_extension": ".py",
   "mimetype": "text/x-python",
   "name": "python",
   "nbconvert_exporter": "python",
   "pygments_lexer": "ipython3",
   "version": "3.6.5"
  }
 },
 "nbformat": 4,
 "nbformat_minor": 2
}
