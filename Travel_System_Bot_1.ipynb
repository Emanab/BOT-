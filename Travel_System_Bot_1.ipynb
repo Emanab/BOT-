{
 "cells": [
  {
   "cell_type": "markdown",
   "metadata": {},
   "source": [
    "## Introduction:\n",
    "\n",
    "This notebook is written in light of the below link:\n",
    "\n",
    "https://colab.research.google.com/github/RasaHQ/rasa_core/blob/master/getting_started.ipynb#scrollTo=zQxY6m6kvlj3"
   ]
  },
  {
   "cell_type": "code",
   "execution_count": null,
   "metadata": {},
   "outputs": [],
   "source": [
    "# !pip install -U git+https://github.com/rasahq/rasa_core.git"
   ]
  },
  {
   "cell_type": "code",
   "execution_count": null,
   "metadata": {},
   "outputs": [],
   "source": [
    "# !pip install rasa_core;"
   ]
  },
  {
   "cell_type": "code",
   "execution_count": 39,
   "metadata": {},
   "outputs": [],
   "source": [
    "import logging\n",
    "from rasa_core import training\n",
    "from rasa_core.actions import Action\n",
    "from rasa_core.agent import Agent\n",
    "from rasa_core.domain import Domain\n",
    "from rasa_core.policies.keras_policy import KerasPolicy\n",
    "from rasa_core.policies.memoization import MemoizationPolicy\n",
    "from rasa_core.featurizers import MaxHistoryTrackerFeaturizer, BinarySingleStateFeaturizer\n",
    "\n",
    "## for NLU!\n",
    "from rasa_nlu.training_data import load_data\n",
    "from rasa_nlu.config import RasaNLUModelConfig\n",
    "from rasa_nlu.model import Trainer\n",
    "\n",
    "\n",
    "## visualize the stories .. \n",
    "from rasa_core.agent import Agent\n",
    "from IPython.display import IFrame\n",
    "\n",
    "\n",
    "import logging, io, json, warnings\n",
    "logging.basicConfig(level=\"INFO\")\n",
    "warnings.filterwarnings('ignore')"
   ]
  },
  {
   "cell_type": "code",
   "execution_count": 40,
   "metadata": {},
   "outputs": [
    {
     "name": "stderr",
     "output_type": "stream",
     "text": [
      "WARNING:rasa_core.training.dsl:Skipping line 1. No valid command found. Line Content: 'stories_md = \"\"\"'\n",
      "WARNING:rasa_core.training.dsl:Skipping line 43. No valid command found. Line Content: '\"\"\"'\n",
      "Processed Story Blocks: 100%|█████████████████████████████████████████████| 5/5 [00:00<00:00, 716.22it/s, # trackers=1]\n",
      "Processed Story Blocks: 100%|█████████████████████████████████████████████| 5/5 [00:00<00:00, 626.73it/s, # trackers=5]\n",
      "Processed Story Blocks: 100%|████████████████████████████████████████████| 5/5 [00:00<00:00, 238.78it/s, # trackers=12]\n",
      "Processed Story Blocks: 100%|████████████████████████████████████████████| 5/5 [00:00<00:00, 278.53it/s, # trackers=11]\n"
     ]
    },
    {
     "name": "stdout",
     "output_type": "stream",
     "text": [
      "_________________________________________________________________\n",
      "Layer (type)                 Output Shape              Param #   \n",
      "=================================================================\n",
      "masking (Masking)            (None, 5, 19)             0         \n",
      "_________________________________________________________________\n",
      "lstm (LSTM)                  (None, 32)                6656      \n",
      "_________________________________________________________________\n",
      "dense (Dense)                (None, 13)                429       \n",
      "_________________________________________________________________\n",
      "activation (Activation)      (None, 13)                0         \n",
      "=================================================================\n",
      "Total params: 7,085\n",
      "Trainable params: 7,085\n",
      "Non-trainable params: 0\n",
      "_________________________________________________________________\n"
     ]
    },
    {
     "name": "stderr",
     "output_type": "stream",
     "text": [
      "INFO:rasa_core.policies.keras_policy:Fitting model with 106 total samples and a validation split of 0.1\n"
     ]
    },
    {
     "name": "stdout",
     "output_type": "stream",
     "text": [
      "Epoch 1/100\n",
      "106/106 [==============================] - ETA: 1s - loss: 2.5489 - acc: 0.125 - 1s 7ms/step - loss: 2.5082 - acc: 0.2547\n",
      "Epoch 2/100\n",
      "106/106 [==============================] - ETA: 0s - loss: 2.4271 - acc: 0.375 - 0s 179us/step - loss: 2.4381 - acc: 0.3774\n",
      "Epoch 3/100\n",
      "106/106 [==============================] - ETA: 0s - loss: 2.3705 - acc: 0.500 - 0s 160us/step - loss: 2.3784 - acc: 0.4434\n",
      "Epoch 4/100\n",
      "106/106 [==============================] - ETA: 0s - loss: 2.2979 - acc: 0.468 - 0s 160us/step - loss: 2.3193 - acc: 0.4434\n",
      "Epoch 5/100\n",
      "106/106 [==============================] - ETA: 0s - loss: 2.2141 - acc: 0.593 - 0s 198us/step - loss: 2.2614 - acc: 0.4434\n",
      "Epoch 6/100\n",
      "106/106 [==============================] - ETA: 0s - loss: 2.1543 - acc: 0.531 - 0s 169us/step - loss: 2.1899 - acc: 0.4528\n",
      "Epoch 7/100\n",
      "106/106 [==============================] - ETA: 0s - loss: 2.1067 - acc: 0.531 - 0s 198us/step - loss: 2.1403 - acc: 0.4528\n",
      "Epoch 8/100\n",
      "106/106 [==============================] - ETA: 0s - loss: 2.0889 - acc: 0.406 - 0s 169us/step - loss: 2.0788 - acc: 0.4528\n",
      "Epoch 9/100\n",
      "106/106 [==============================] - ETA: 0s - loss: 2.0791 - acc: 0.437 - 0s 169us/step - loss: 2.0232 - acc: 0.4528\n",
      "Epoch 10/100\n",
      "106/106 [==============================] - ETA: 0s - loss: 1.9977 - acc: 0.437 - 0s 207us/step - loss: 1.9514 - acc: 0.4528\n",
      "Epoch 11/100\n",
      "106/106 [==============================] - ETA: 0s - loss: 1.9003 - acc: 0.437 - 0s 169us/step - loss: 1.8634 - acc: 0.4528\n",
      "Epoch 12/100\n",
      "106/106 [==============================] - ETA: 0s - loss: 1.8675 - acc: 0.531 - 0s 188us/step - loss: 1.8785 - acc: 0.4528\n",
      "Epoch 13/100\n",
      "106/106 [==============================] - ETA: 0s - loss: 1.8960 - acc: 0.375 - 0s 216us/step - loss: 1.8155 - acc: 0.4528\n",
      "Epoch 14/100\n",
      "106/106 [==============================] - ETA: 0s - loss: 1.9462 - acc: 0.437 - 0s 179us/step - loss: 1.7928 - acc: 0.4528\n",
      "Epoch 15/100\n",
      "106/106 [==============================] - ETA: 0s - loss: 1.7372 - acc: 0.500 - 0s 169us/step - loss: 1.7846 - acc: 0.4528\n",
      "Epoch 16/100\n",
      "106/106 [==============================] - ETA: 0s - loss: 1.8051 - acc: 0.406 - 0s 151us/step - loss: 1.7440 - acc: 0.4528\n",
      "Epoch 17/100\n",
      "106/106 [==============================] - ETA: 0s - loss: 1.6187 - acc: 0.531 - 0s 141us/step - loss: 1.7694 - acc: 0.4528\n",
      "Epoch 18/100\n",
      "106/106 [==============================] - ETA: 0s - loss: 1.7864 - acc: 0.343 - 0s 160us/step - loss: 1.6824 - acc: 0.4528\n",
      "Epoch 19/100\n",
      "106/106 [==============================] - ETA: 0s - loss: 1.5195 - acc: 0.562 - 0s 160us/step - loss: 1.6796 - acc: 0.4528\n",
      "Epoch 20/100\n",
      "106/106 [==============================] - ETA: 0s - loss: 1.5695 - acc: 0.562 - 0s 179us/step - loss: 1.6858 - acc: 0.4528\n",
      "Epoch 21/100\n",
      "106/106 [==============================] - ETA: 0s - loss: 1.8160 - acc: 0.375 - 0s 282us/step - loss: 1.6411 - acc: 0.4528\n",
      "Epoch 22/100\n",
      "106/106 [==============================] - ETA: 0s - loss: 1.5003 - acc: 0.531 - 0s 188us/step - loss: 1.6352 - acc: 0.4528\n",
      "Epoch 23/100\n",
      "106/106 [==============================] - ETA: 0s - loss: 1.7937 - acc: 0.437 - 0s 188us/step - loss: 1.6483 - acc: 0.4528\n",
      "Epoch 24/100\n",
      "106/106 [==============================] - ETA: 0s - loss: 1.7422 - acc: 0.343 - 0s 179us/step - loss: 1.6108 - acc: 0.4528\n",
      "Epoch 25/100\n",
      "106/106 [==============================] - ETA: 0s - loss: 1.7760 - acc: 0.406 - 0s 160us/step - loss: 1.5952 - acc: 0.4528\n",
      "Epoch 26/100\n",
      "106/106 [==============================] - ETA: 0s - loss: 1.4269 - acc: 0.500 - 0s 169us/step - loss: 1.5763 - acc: 0.4528\n",
      "Epoch 27/100\n",
      "106/106 [==============================] - ETA: 0s - loss: 1.4132 - acc: 0.500 - 0s 169us/step - loss: 1.5824 - acc: 0.4528\n",
      "Epoch 28/100\n",
      "106/106 [==============================] - ETA: 0s - loss: 1.5830 - acc: 0.406 - 0s 169us/step - loss: 1.5817 - acc: 0.4528\n",
      "Epoch 29/100\n",
      "106/106 [==============================] - ETA: 0s - loss: 1.3544 - acc: 0.531 - 0s 141us/step - loss: 1.5276 - acc: 0.4528\n",
      "Epoch 30/100\n",
      "106/106 [==============================] - ETA: 0s - loss: 1.3477 - acc: 0.562 - 0s 179us/step - loss: 1.5380 - acc: 0.4528\n",
      "Epoch 31/100\n",
      "106/106 [==============================] - ETA: 0s - loss: 1.5402 - acc: 0.468 - 0s 160us/step - loss: 1.5300 - acc: 0.4528\n",
      "Epoch 32/100\n",
      "106/106 [==============================] - ETA: 0s - loss: 1.1623 - acc: 0.593 - 0s 169us/step - loss: 1.5361 - acc: 0.4528\n",
      "Epoch 33/100\n",
      "106/106 [==============================] - ETA: 0s - loss: 1.3934 - acc: 0.531 - 0s 151us/step - loss: 1.5165 - acc: 0.4528\n",
      "Epoch 34/100\n",
      "106/106 [==============================] - ETA: 0s - loss: 1.4257 - acc: 0.468 - 0s 188us/step - loss: 1.4916 - acc: 0.4528\n",
      "Epoch 35/100\n",
      "106/106 [==============================] - ETA: 0s - loss: 1.4252 - acc: 0.500 - 0s 179us/step - loss: 1.5027 - acc: 0.4528\n",
      "Epoch 36/100\n",
      "106/106 [==============================] - ETA: 0s - loss: 1.3478 - acc: 0.531 - 0s 179us/step - loss: 1.4765 - acc: 0.4528\n",
      "Epoch 37/100\n",
      "106/106 [==============================] - ETA: 0s - loss: 1.4352 - acc: 0.437 - 0s 207us/step - loss: 1.4663 - acc: 0.4528\n",
      "Epoch 38/100\n",
      "106/106 [==============================] - ETA: 0s - loss: 1.3275 - acc: 0.562 - 0s 179us/step - loss: 1.4641 - acc: 0.4528\n",
      "Epoch 39/100\n",
      "106/106 [==============================] - ETA: 0s - loss: 1.3508 - acc: 0.500 - 0s 198us/step - loss: 1.4595 - acc: 0.4528\n",
      "Epoch 40/100\n",
      "106/106 [==============================] - ETA: 0s - loss: 1.3803 - acc: 0.531 - 0s 169us/step - loss: 1.4463 - acc: 0.4528\n",
      "Epoch 41/100\n",
      "106/106 [==============================] - ETA: 0s - loss: 1.4489 - acc: 0.437 - 0s 207us/step - loss: 1.4067 - acc: 0.4528\n",
      "Epoch 42/100\n",
      "106/106 [==============================] - ETA: 0s - loss: 1.3277 - acc: 0.562 - 0s 160us/step - loss: 1.4201 - acc: 0.4528\n",
      "Epoch 43/100\n",
      "106/106 [==============================] - ETA: 0s - loss: 1.2320 - acc: 0.593 - 0s 235us/step - loss: 1.3991 - acc: 0.4528\n",
      "Epoch 44/100\n",
      "106/106 [==============================] - ETA: 0s - loss: 1.3612 - acc: 0.500 - 0s 160us/step - loss: 1.4014 - acc: 0.4528\n",
      "Epoch 45/100\n",
      "106/106 [==============================] - ETA: 0s - loss: 1.3709 - acc: 0.437 - 0s 141us/step - loss: 1.3693 - acc: 0.4528\n",
      "Epoch 46/100\n",
      "106/106 [==============================] - ETA: 0s - loss: 1.4316 - acc: 0.406 - 0s 216us/step - loss: 1.3811 - acc: 0.4528\n",
      "Epoch 47/100\n",
      "106/106 [==============================] - ETA: 0s - loss: 1.3272 - acc: 0.468 - 0s 188us/step - loss: 1.3741 - acc: 0.4528\n",
      "Epoch 48/100\n",
      "106/106 [==============================] - ETA: 0s - loss: 1.3568 - acc: 0.375 - 0s 301us/step - loss: 1.3488 - acc: 0.4528\n",
      "Epoch 49/100\n",
      "106/106 [==============================] - ETA: 0s - loss: 1.4079 - acc: 0.468 - 0s 179us/step - loss: 1.3381 - acc: 0.4528\n",
      "Epoch 50/100\n",
      "106/106 [==============================] - ETA: 0s - loss: 1.2437 - acc: 0.562 - 0s 141us/step - loss: 1.3504 - acc: 0.4528\n",
      "Epoch 51/100\n",
      "106/106 [==============================] - ETA: 0s - loss: 1.5243 - acc: 0.375 - 0s 188us/step - loss: 1.3354 - acc: 0.4528\n",
      "Epoch 52/100\n",
      "106/106 [==============================] - ETA: 0s - loss: 1.2393 - acc: 0.500 - 0s 188us/step - loss: 1.3175 - acc: 0.4528\n",
      "Epoch 53/100\n",
      "106/106 [==============================] - ETA: 0s - loss: 1.1540 - acc: 0.562 - 0s 169us/step - loss: 1.2941 - acc: 0.4528\n",
      "Epoch 54/100\n",
      "106/106 [==============================] - ETA: 0s - loss: 1.3266 - acc: 0.343 - 0s 151us/step - loss: 1.2770 - acc: 0.4528\n",
      "Epoch 55/100\n",
      "106/106 [==============================] - ETA: 0s - loss: 1.3697 - acc: 0.375 - 0s 151us/step - loss: 1.2822 - acc: 0.4623\n",
      "Epoch 56/100\n",
      "106/106 [==============================] - ETA: 0s - loss: 1.1945 - acc: 0.468 - 0s 188us/step - loss: 1.2518 - acc: 0.4717\n",
      "Epoch 57/100\n",
      "106/106 [==============================] - ETA: 0s - loss: 1.3308 - acc: 0.406 - 0s 160us/step - loss: 1.2719 - acc: 0.4811\n",
      "Epoch 58/100\n",
      "106/106 [==============================] - ETA: 0s - loss: 1.2502 - acc: 0.593 - 0s 151us/step - loss: 1.2874 - acc: 0.4717\n",
      "Epoch 59/100\n",
      "106/106 [==============================] - ETA: 0s - loss: 1.2598 - acc: 0.406 - 0s 207us/step - loss: 1.2490 - acc: 0.4811\n",
      "Epoch 60/100\n",
      "106/106 [==============================] - ETA: 0s - loss: 1.1861 - acc: 0.593 - 0s 188us/step - loss: 1.2623 - acc: 0.5189\n"
     ]
    },
    {
     "name": "stdout",
     "output_type": "stream",
     "text": [
      "Epoch 61/100\n",
      "106/106 [==============================] - ETA: 0s - loss: 1.1184 - acc: 0.625 - 0s 263us/step - loss: 1.2356 - acc: 0.4717\n",
      "Epoch 62/100\n",
      "106/106 [==============================] - ETA: 0s - loss: 1.2109 - acc: 0.468 - 0s 160us/step - loss: 1.1970 - acc: 0.5000\n",
      "Epoch 63/100\n",
      "106/106 [==============================] - ETA: 0s - loss: 1.2172 - acc: 0.468 - 0s 169us/step - loss: 1.1973 - acc: 0.5000\n",
      "Epoch 64/100\n",
      "106/106 [==============================] - ETA: 0s - loss: 1.1778 - acc: 0.531 - 0s 169us/step - loss: 1.1635 - acc: 0.5094\n",
      "Epoch 65/100\n",
      "106/106 [==============================] - ETA: 0s - loss: 1.1379 - acc: 0.562 - 0s 169us/step - loss: 1.2084 - acc: 0.5000\n",
      "Epoch 66/100\n",
      "106/106 [==============================] - ETA: 0s - loss: 0.9980 - acc: 0.625 - 0s 160us/step - loss: 1.1870 - acc: 0.5189\n",
      "Epoch 67/100\n",
      "106/106 [==============================] - ETA: 0s - loss: 1.2402 - acc: 0.468 - 0s 160us/step - loss: 1.1338 - acc: 0.5566\n",
      "Epoch 68/100\n",
      "106/106 [==============================] - ETA: 0s - loss: 1.1718 - acc: 0.500 - 0s 169us/step - loss: 1.1309 - acc: 0.5849\n",
      "Epoch 69/100\n",
      "106/106 [==============================] - ETA: 0s - loss: 1.1001 - acc: 0.593 - 0s 198us/step - loss: 1.1338 - acc: 0.5377\n",
      "Epoch 70/100\n",
      "106/106 [==============================] - ETA: 0s - loss: 1.1635 - acc: 0.593 - 0s 160us/step - loss: 1.1249 - acc: 0.5660\n",
      "Epoch 71/100\n",
      "106/106 [==============================] - ETA: 0s - loss: 1.1447 - acc: 0.593 - 0s 160us/step - loss: 1.1067 - acc: 0.5943\n",
      "Epoch 72/100\n",
      "106/106 [==============================] - ETA: 0s - loss: 1.0492 - acc: 0.625 - 0s 169us/step - loss: 1.1178 - acc: 0.6038\n",
      "Epoch 73/100\n",
      "106/106 [==============================] - ETA: 0s - loss: 0.9241 - acc: 0.718 - 0s 179us/step - loss: 1.0928 - acc: 0.6038\n",
      "Epoch 74/100\n",
      "106/106 [==============================] - ETA: 0s - loss: 1.3009 - acc: 0.468 - 0s 179us/step - loss: 1.1072 - acc: 0.5943\n",
      "Epoch 75/100\n",
      "106/106 [==============================] - ETA: 0s - loss: 1.1295 - acc: 0.593 - 0s 169us/step - loss: 1.0803 - acc: 0.5849\n",
      "Epoch 76/100\n",
      "106/106 [==============================] - ETA: 0s - loss: 1.0866 - acc: 0.593 - 0s 169us/step - loss: 1.0781 - acc: 0.6415\n",
      "Epoch 77/100\n",
      "106/106 [==============================] - ETA: 0s - loss: 1.0605 - acc: 0.625 - 0s 169us/step - loss: 1.0526 - acc: 0.5943\n",
      "Epoch 78/100\n",
      "106/106 [==============================] - ETA: 0s - loss: 0.9828 - acc: 0.593 - 0s 169us/step - loss: 1.0322 - acc: 0.5943\n",
      "Epoch 79/100\n",
      "106/106 [==============================] - ETA: 0s - loss: 1.2097 - acc: 0.531 - 0s 188us/step - loss: 1.0279 - acc: 0.6415\n",
      "Epoch 80/100\n",
      "106/106 [==============================] - ETA: 0s - loss: 0.9342 - acc: 0.687 - 0s 169us/step - loss: 0.9932 - acc: 0.6415\n",
      "Epoch 81/100\n",
      "106/106 [==============================] - ETA: 0s - loss: 1.1721 - acc: 0.625 - 0s 188us/step - loss: 0.9752 - acc: 0.6887\n",
      "Epoch 82/100\n",
      "106/106 [==============================] - ETA: 0s - loss: 1.0810 - acc: 0.562 - 0s 169us/step - loss: 0.9764 - acc: 0.6415\n",
      "Epoch 83/100\n",
      "106/106 [==============================] - ETA: 0s - loss: 1.0880 - acc: 0.625 - 0s 188us/step - loss: 0.9726 - acc: 0.6698\n",
      "Epoch 84/100\n",
      "106/106 [==============================] - ETA: 0s - loss: 1.1126 - acc: 0.656 - 0s 160us/step - loss: 0.9797 - acc: 0.6509\n",
      "Epoch 85/100\n",
      "106/106 [==============================] - ETA: 0s - loss: 1.0151 - acc: 0.625 - 0s 179us/step - loss: 0.9584 - acc: 0.6509\n",
      "Epoch 86/100\n",
      "106/106 [==============================] - ETA: 0s - loss: 0.8681 - acc: 0.687 - 0s 179us/step - loss: 0.8942 - acc: 0.6887\n",
      "Epoch 87/100\n",
      "106/106 [==============================] - ETA: 0s - loss: 0.9191 - acc: 0.687 - 0s 198us/step - loss: 0.9416 - acc: 0.7075\n",
      "Epoch 88/100\n",
      "106/106 [==============================] - ETA: 0s - loss: 0.8996 - acc: 0.593 - 0s 282us/step - loss: 0.9504 - acc: 0.6698\n",
      "Epoch 89/100\n",
      "106/106 [==============================] - ETA: 0s - loss: 0.8829 - acc: 0.718 - 0s 169us/step - loss: 0.9172 - acc: 0.6887\n",
      "Epoch 90/100\n",
      "106/106 [==============================] - ETA: 0s - loss: 0.8227 - acc: 0.750 - 0s 245us/step - loss: 0.8880 - acc: 0.7358\n",
      "Epoch 91/100\n",
      "106/106 [==============================] - ETA: 0s - loss: 0.8246 - acc: 0.718 - 0s 169us/step - loss: 0.9159 - acc: 0.6792\n",
      "Epoch 92/100\n",
      "106/106 [==============================] - ETA: 0s - loss: 0.8938 - acc: 0.750 - 0s 151us/step - loss: 0.8949 - acc: 0.7170\n",
      "Epoch 93/100\n",
      "106/106 [==============================] - ETA: 0s - loss: 0.8766 - acc: 0.718 - 0s 160us/step - loss: 0.8611 - acc: 0.7453\n",
      "Epoch 94/100\n",
      "106/106 [==============================] - ETA: 0s - loss: 0.8492 - acc: 0.718 - 0s 169us/step - loss: 0.8522 - acc: 0.7358\n",
      "Epoch 95/100\n",
      "106/106 [==============================] - ETA: 0s - loss: 0.8087 - acc: 0.781 - 0s 141us/step - loss: 0.8410 - acc: 0.7547\n",
      "Epoch 96/100\n",
      "106/106 [==============================] - ETA: 0s - loss: 0.8147 - acc: 0.750 - 0s 151us/step - loss: 0.8042 - acc: 0.7830\n",
      "Epoch 97/100\n",
      "106/106 [==============================] - ETA: 0s - loss: 0.8684 - acc: 0.718 - 0s 169us/step - loss: 0.8225 - acc: 0.7736\n",
      "Epoch 98/100\n",
      "106/106 [==============================] - ETA: 0s - loss: 0.8542 - acc: 0.750 - 0s 160us/step - loss: 0.7990 - acc: 0.7830\n",
      "Epoch 99/100\n",
      "106/106 [==============================] - ETA: 0s - loss: 0.8812 - acc: 0.718 - 0s 151us/step - loss: 0.7794 - acc: 0.7736\n",
      "Epoch 100/100\n",
      "106/106 [==============================] - ETA: 0s - loss: 0.7818 - acc: 0.843 - 0s 160us/step - loss: 0.7684 - acc: 0.8302\n"
     ]
    },
    {
     "name": "stderr",
     "output_type": "stream",
     "text": [
      "INFO:rasa_core.policies.keras_policy:Done fitting keras policy model\n"
     ]
    }
   ],
   "source": [
    "agent = Agent('domain.yml', policies=[KerasPolicy()])\n",
    "training_data = agent.load_data('stories.md')\n",
    "agent.train(\n",
    "        training_data,\n",
    "        validation_split=0.0,\n",
    "        epoch=400\n",
    ")"
   ]
  },
  {
   "cell_type": "code",
   "execution_count": 12,
   "metadata": {},
   "outputs": [
    {
     "name": "stderr",
     "output_type": "stream",
     "text": [
      "INFO:rasa_core.agent:Persisted model to 'C:\\Users\\eman.aboelhamd\\Rasa\\Travel Bot\\models\\dialogue'\n"
     ]
    }
   ],
   "source": [
    "agent.persist('models/dialogue')"
   ]
  },
  {
   "cell_type": "code",
   "execution_count": 14,
   "metadata": {},
   "outputs": [
    {
     "data": {
      "text/plain": [
       "<rasa_core.agent.Agent at 0x1fe67600588>"
      ]
     },
     "execution_count": 14,
     "metadata": {},
     "output_type": "execute_result"
    }
   ],
   "source": [
    "agent = Agent.load('models/dialogue')\n",
    "agent"
   ]
  },
  {
   "cell_type": "markdown",
   "metadata": {},
   "source": [
    "## Talking to the bot .. \n",
    "\n",
    "No NLU yet!"
   ]
  },
  {
   "cell_type": "code",
   "execution_count": 15,
   "metadata": {},
   "outputs": [
    {
     "name": "stdout",
     "output_type": "stream",
     "text": [
      "Your bot is ready to talk! Type your messages here or send 'stop'\n",
      "hi\n"
     ]
    },
    {
     "name": "stderr",
     "output_type": "stream",
     "text": [
      "WARNING:rasa_core.agent:Passing a text to `agent.handle_message(...)` is deprecated. Rather use `agent.handle_text(...)`.\n"
     ]
    },
    {
     "name": "stdout",
     "output_type": "stream",
     "text": [
      "Great carry on!\n",
      "hello!\n"
     ]
    },
    {
     "name": "stderr",
     "output_type": "stream",
     "text": [
      "WARNING:rasa_core.agent:Passing a text to `agent.handle_message(...)` is deprecated. Rather use `agent.handle_text(...)`.\n"
     ]
    },
    {
     "name": "stdout",
     "output_type": "stream",
     "text": [
      "Great carry on!\n",
      "Thank you\n"
     ]
    },
    {
     "name": "stderr",
     "output_type": "stream",
     "text": [
      "WARNING:rasa_core.agent:Passing a text to `agent.handle_message(...)` is deprecated. Rather use `agent.handle_text(...)`.\n"
     ]
    },
    {
     "name": "stdout",
     "output_type": "stream",
     "text": [
      "Great carry on!\n",
      "happy!\n"
     ]
    },
    {
     "name": "stderr",
     "output_type": "stream",
     "text": [
      "WARNING:rasa_core.agent:Passing a text to `agent.handle_message(...)` is deprecated. Rather use `agent.handle_text(...)`.\n"
     ]
    },
    {
     "name": "stdout",
     "output_type": "stream",
     "text": [
      "Great carry on!\n",
      "stop\n"
     ]
    }
   ],
   "source": [
    "print(\"Your bot is ready to talk! Type your messages here or send 'stop'\")\n",
    "while True:\n",
    "    a = input()\n",
    "    if a == 'stop':\n",
    "        break\n",
    "    responses = agent.handle_text(a)\n",
    "    for response in responses:\n",
    "        print(response[\"text\"])"
   ]
  },
  {
   "cell_type": "markdown",
   "metadata": {},
   "source": [
    "## Adding NLU: \n",
    "\n",
    "To allow for more intelligence .. "
   ]
  },
  {
   "cell_type": "code",
   "execution_count": 17,
   "metadata": {},
   "outputs": [
    {
     "name": "stdout",
     "output_type": "stream",
     "text": [
      "Collecting git+git://github.com/pygraphviz/pygraphviz.git;\n",
      "  Cloning git://github.com/pygraphviz/pygraphviz.git; to c:\\users\\eman~1.abo\\appdata\\local\\temp\\pip-req-build-0z5mkeho\n",
      "fatal: unable to connect to github.com:\n",
      "github.com[0: 140.82.118.4]: errno=Invalid argument\n",
      "github.com[1: 140.82.118.3]: errno=Invalid argument\n",
      "\n"
     ]
    },
    {
     "name": "stderr",
     "output_type": "stream",
     "text": [
      "Command \"git clone -q git://github.com/pygraphviz/pygraphviz.git; C:\\Users\\EMAN~1.ABO\\AppData\\Local\\Temp\\pip-req-build-0z5mkeho\" failed with error code 128 in None\n"
     ]
    }
   ],
   "source": [
    "# !pip install git+git://github.com/pygraphviz/pygraphviz.git;"
   ]
  },
  {
   "cell_type": "code",
   "execution_count": 18,
   "metadata": {},
   "outputs": [
    {
     "name": "stdout",
     "output_type": "stream",
     "text": [
      "Requirement already satisfied: rasa_nlu[spacy] in c:\\users\\eman.aboelhamd\\appdata\\local\\continuum\\anaconda3\\lib\\site-packages (0.13.8)\n",
      "Requirement already satisfied: gevent in c:\\users\\eman.aboelhamd\\appdata\\local\\continuum\\anaconda3\\lib\\site-packages (from rasa_nlu[spacy]) (1.2.2)\n",
      "Requirement already satisfied: klein in c:\\users\\eman.aboelhamd\\appdata\\local\\continuum\\anaconda3\\lib\\site-packages (from rasa_nlu[spacy]) (17.10.0)\n",
      "Requirement already satisfied: cloudpickle in c:\\users\\eman.aboelhamd\\appdata\\local\\continuum\\anaconda3\\lib\\site-packages (from rasa_nlu[spacy]) (0.5.3)\n",
      "Requirement already satisfied: typing in c:\\users\\eman.aboelhamd\\appdata\\local\\continuum\\anaconda3\\lib\\site-packages (from rasa_nlu[spacy]) (3.6.2)\n",
      "Requirement already satisfied: numpy>=1.13 in c:\\users\\eman.aboelhamd\\appdata\\local\\continuum\\anaconda3\\lib\\site-packages (from rasa_nlu[spacy]) (1.15.4)\n",
      "Requirement already satisfied: pyyaml in c:\\users\\eman.aboelhamd\\appdata\\local\\continuum\\anaconda3\\lib\\site-packages (from rasa_nlu[spacy]) (3.12)\n",
      "Requirement already satisfied: pathlib in c:\\users\\eman.aboelhamd\\appdata\\local\\continuum\\anaconda3\\lib\\site-packages (from rasa_nlu[spacy]) (1.0.1)\n",
      "Requirement already satisfied: coloredlogs in c:\\users\\eman.aboelhamd\\appdata\\local\\continuum\\anaconda3\\lib\\site-packages (from rasa_nlu[spacy]) (10.0)\n",
      "Requirement already satisfied: jsonschema in c:\\users\\eman.aboelhamd\\appdata\\local\\continuum\\anaconda3\\lib\\site-packages (from rasa_nlu[spacy]) (2.6.0)\n",
      "Requirement already satisfied: matplotlib~=2.0 in c:\\users\\eman.aboelhamd\\appdata\\local\\continuum\\anaconda3\\lib\\site-packages (from rasa_nlu[spacy]) (2.1.0)\n",
      "Requirement already satisfied: packaging in c:\\users\\eman.aboelhamd\\appdata\\local\\continuum\\anaconda3\\lib\\site-packages (from rasa_nlu[spacy]) (17.1)\n",
      "Requirement already satisfied: tqdm in c:\\users\\eman.aboelhamd\\appdata\\local\\continuum\\anaconda3\\lib\\site-packages (from rasa_nlu[spacy]) (4.19.5)\n",
      "Requirement already satisfied: boto3 in c:\\users\\eman.aboelhamd\\appdata\\local\\continuum\\anaconda3\\lib\\site-packages (from rasa_nlu[spacy]) (1.9.35)\n",
      "Requirement already satisfied: six in c:\\users\\eman.aboelhamd\\appdata\\local\\continuum\\anaconda3\\lib\\site-packages (from rasa_nlu[spacy]) (1.11.0)\n",
      "Requirement already satisfied: requests in c:\\users\\eman.aboelhamd\\appdata\\local\\continuum\\anaconda3\\lib\\site-packages (from rasa_nlu[spacy]) (2.20.0)\n",
      "Requirement already satisfied: future in c:\\users\\eman.aboelhamd\\appdata\\local\\continuum\\anaconda3\\lib\\site-packages (from rasa_nlu[spacy]) (0.16.0)\n",
      "Requirement already satisfied: simplejson in c:\\users\\eman.aboelhamd\\appdata\\local\\continuum\\anaconda3\\lib\\site-packages (from rasa_nlu[spacy]) (3.13.2)\n",
      "Requirement already satisfied: scipy; extra == \"spacy\" in c:\\users\\eman.aboelhamd\\appdata\\local\\continuum\\anaconda3\\lib\\site-packages (from rasa_nlu[spacy]) (1.1.0)\n",
      "Requirement already satisfied: scikit-learn<0.20; extra == \"spacy\" in c:\\users\\eman.aboelhamd\\appdata\\local\\continuum\\anaconda3\\lib\\site-packages (from rasa_nlu[spacy]) (0.19.1)\n",
      "Requirement already satisfied: sklearn-crfsuite; extra == \"spacy\" in c:\\users\\eman.aboelhamd\\appdata\\local\\continuum\\anaconda3\\lib\\site-packages (from rasa_nlu[spacy]) (0.3.6)\n",
      "Requirement already satisfied: spacy<=2.0.12,>2.0; extra == \"spacy\" in c:\\users\\eman.aboelhamd\\appdata\\local\\continuum\\anaconda3\\lib\\site-packages (from rasa_nlu[spacy]) (2.0.12)\n",
      "Requirement already satisfied: greenlet>=0.4.10 in c:\\users\\eman.aboelhamd\\appdata\\local\\continuum\\anaconda3\\lib\\site-packages (from gevent->rasa_nlu[spacy]) (0.4.13)\n",
      "Requirement already satisfied: Twisted>=15.5 in c:\\users\\eman.aboelhamd\\appdata\\local\\continuum\\anaconda3\\lib\\site-packages (from klein->rasa_nlu[spacy]) (18.9.0)\n",
      "Requirement already satisfied: werkzeug in c:\\users\\eman.aboelhamd\\appdata\\local\\continuum\\anaconda3\\lib\\site-packages (from klein->rasa_nlu[spacy]) (0.14.1)\n",
      "Requirement already satisfied: incremental in c:\\users\\eman.aboelhamd\\appdata\\local\\continuum\\anaconda3\\lib\\site-packages (from klein->rasa_nlu[spacy]) (17.5.0)\n",
      "Requirement already satisfied: humanfriendly>=4.7 in c:\\users\\eman.aboelhamd\\appdata\\local\\continuum\\anaconda3\\lib\\site-packages (from coloredlogs->rasa_nlu[spacy]) (4.17)\n",
      "Requirement already satisfied: colorama; sys_platform == \"win32\" in c:\\users\\eman.aboelhamd\\appdata\\local\\continuum\\anaconda3\\lib\\site-packages (from coloredlogs->rasa_nlu[spacy]) (0.3.9)\n",
      "Requirement already satisfied: pyparsing!=2.0.4,!=2.1.2,!=2.1.6,>=2.0.1 in c:\\users\\eman.aboelhamd\\appdata\\local\\continuum\\anaconda3\\lib\\site-packages (from matplotlib~=2.0->rasa_nlu[spacy]) (2.2.0)\n",
      "Requirement already satisfied: pytz in c:\\users\\eman.aboelhamd\\appdata\\local\\continuum\\anaconda3\\lib\\site-packages (from matplotlib~=2.0->rasa_nlu[spacy]) (2018.4)\n",
      "Requirement already satisfied: cycler>=0.10 in c:\\users\\eman.aboelhamd\\appdata\\local\\continuum\\anaconda3\\lib\\site-packages (from matplotlib~=2.0->rasa_nlu[spacy]) (0.10.0)\n",
      "Requirement already satisfied: python-dateutil>=2.0 in c:\\users\\eman.aboelhamd\\appdata\\local\\continuum\\anaconda3\\lib\\site-packages (from matplotlib~=2.0->rasa_nlu[spacy]) (2.7.3)\n",
      "Requirement already satisfied: botocore<1.13.0,>=1.12.35 in c:\\users\\eman.aboelhamd\\appdata\\local\\continuum\\anaconda3\\lib\\site-packages (from boto3->rasa_nlu[spacy]) (1.12.35)\n",
      "Requirement already satisfied: jmespath<1.0.0,>=0.7.1 in c:\\users\\eman.aboelhamd\\appdata\\local\\continuum\\anaconda3\\lib\\site-packages (from boto3->rasa_nlu[spacy]) (0.9.3)\n",
      "Requirement already satisfied: s3transfer<0.2.0,>=0.1.10 in c:\\users\\eman.aboelhamd\\appdata\\local\\continuum\\anaconda3\\lib\\site-packages (from boto3->rasa_nlu[spacy]) (0.1.13)\n",
      "Requirement already satisfied: chardet<3.1.0,>=3.0.2 in c:\\users\\eman.aboelhamd\\appdata\\local\\continuum\\anaconda3\\lib\\site-packages (from requests->rasa_nlu[spacy]) (3.0.4)\n",
      "Requirement already satisfied: urllib3<1.25,>=1.21.1 in c:\\users\\eman.aboelhamd\\appdata\\local\\continuum\\anaconda3\\lib\\site-packages (from requests->rasa_nlu[spacy]) (1.22)\n",
      "Requirement already satisfied: idna<2.8,>=2.5 in c:\\users\\eman.aboelhamd\\appdata\\local\\continuum\\anaconda3\\lib\\site-packages (from requests->rasa_nlu[spacy]) (2.6)\n",
      "Requirement already satisfied: certifi>=2017.4.17 in c:\\users\\eman.aboelhamd\\appdata\\local\\continuum\\anaconda3\\lib\\site-packages (from requests->rasa_nlu[spacy]) (2018.4.16)\n",
      "Requirement already satisfied: tabulate in c:\\users\\eman.aboelhamd\\appdata\\local\\continuum\\anaconda3\\lib\\site-packages (from sklearn-crfsuite; extra == \"spacy\"->rasa_nlu[spacy]) (0.8.2)\n",
      "Requirement already satisfied: python-crfsuite>=0.8.3 in c:\\users\\eman.aboelhamd\\appdata\\local\\continuum\\anaconda3\\lib\\site-packages (from sklearn-crfsuite; extra == \"spacy\"->rasa_nlu[spacy]) (0.9.6)\n",
      "Requirement already satisfied: preshed<2.0.0,>=1.0.0 in c:\\users\\eman.aboelhamd\\appdata\\local\\continuum\\anaconda3\\lib\\site-packages (from spacy<=2.0.12,>2.0; extra == \"spacy\"->rasa_nlu[spacy]) (1.0.1)\n",
      "Requirement already satisfied: thinc<6.11.0,>=6.10.3 in c:\\users\\eman.aboelhamd\\appdata\\local\\continuum\\anaconda3\\lib\\site-packages (from spacy<=2.0.12,>2.0; extra == \"spacy\"->rasa_nlu[spacy]) (6.10.3)\n",
      "Requirement already satisfied: cymem<1.32,>=1.30 in c:\\users\\eman.aboelhamd\\appdata\\local\\continuum\\anaconda3\\lib\\site-packages (from spacy<=2.0.12,>2.0; extra == \"spacy\"->rasa_nlu[spacy]) (1.31.2)\n",
      "Requirement already satisfied: ujson>=1.35 in c:\\users\\eman.aboelhamd\\appdata\\local\\continuum\\anaconda3\\lib\\site-packages (from spacy<=2.0.12,>2.0; extra == \"spacy\"->rasa_nlu[spacy]) (1.35)\n",
      "Requirement already satisfied: dill<0.3,>=0.2 in c:\\users\\eman.aboelhamd\\appdata\\local\\continuum\\anaconda3\\lib\\site-packages (from spacy<=2.0.12,>2.0; extra == \"spacy\"->rasa_nlu[spacy]) (0.2.8.2)\n",
      "Requirement already satisfied: murmurhash<0.29,>=0.28 in c:\\users\\eman.aboelhamd\\appdata\\local\\continuum\\anaconda3\\lib\\site-packages (from spacy<=2.0.12,>2.0; extra == \"spacy\"->rasa_nlu[spacy]) (0.28.0)\n",
      "Requirement already satisfied: plac<1.0.0,>=0.9.6 in c:\\users\\eman.aboelhamd\\appdata\\local\\continuum\\anaconda3\\lib\\site-packages (from spacy<=2.0.12,>2.0; extra == \"spacy\"->rasa_nlu[spacy]) (0.9.6)\n"
     ]
    },
    {
     "name": "stdout",
     "output_type": "stream",
     "text": [
      "Requirement already satisfied: regex==2017.4.5 in c:\\users\\eman.aboelhamd\\appdata\\local\\continuum\\anaconda3\\lib\\site-packages (from spacy<=2.0.12,>2.0; extra == \"spacy\"->rasa_nlu[spacy]) (2017.4.5)\n",
      "Requirement already satisfied: attrs>=17.4.0 in c:\\users\\eman.aboelhamd\\appdata\\local\\continuum\\anaconda3\\lib\\site-packages (from Twisted>=15.5->klein->rasa_nlu[spacy]) (18.1.0)\n",
      "Requirement already satisfied: constantly>=15.1 in c:\\users\\eman.aboelhamd\\appdata\\local\\continuum\\anaconda3\\lib\\site-packages (from Twisted>=15.5->klein->rasa_nlu[spacy]) (15.1.0)\n",
      "Requirement already satisfied: zope.interface>=4.4.2 in c:\\users\\eman.aboelhamd\\appdata\\local\\continuum\\anaconda3\\lib\\site-packages (from Twisted>=15.5->klein->rasa_nlu[spacy]) (4.6.0)\n",
      "Requirement already satisfied: PyHamcrest>=1.9.0 in c:\\users\\eman.aboelhamd\\appdata\\local\\continuum\\anaconda3\\lib\\site-packages (from Twisted>=15.5->klein->rasa_nlu[spacy]) (1.9.0)\n",
      "Requirement already satisfied: Automat>=0.3.0 in c:\\users\\eman.aboelhamd\\appdata\\local\\continuum\\anaconda3\\lib\\site-packages (from Twisted>=15.5->klein->rasa_nlu[spacy]) (0.7.0)\n",
      "Requirement already satisfied: hyperlink>=17.1.1 in c:\\users\\eman.aboelhamd\\appdata\\local\\continuum\\anaconda3\\lib\\site-packages (from Twisted>=15.5->klein->rasa_nlu[spacy]) (17.3.1)\n",
      "Requirement already satisfied: pyreadline; sys_platform == \"win32\" in c:\\users\\eman.aboelhamd\\appdata\\local\\continuum\\anaconda3\\lib\\site-packages (from humanfriendly>=4.7->coloredlogs->rasa_nlu[spacy]) (2.1)\n",
      "Requirement already satisfied: docutils>=0.10 in c:\\users\\eman.aboelhamd\\appdata\\local\\continuum\\anaconda3\\lib\\site-packages (from botocore<1.13.0,>=1.12.35->boto3->rasa_nlu[spacy]) (0.14)\n",
      "Requirement already satisfied: msgpack<1.0.0,>=0.5.6 in c:\\users\\eman.aboelhamd\\appdata\\local\\continuum\\anaconda3\\lib\\site-packages (from thinc<6.11.0,>=6.10.3->spacy<=2.0.12,>2.0; extra == \"spacy\"->rasa_nlu[spacy]) (0.5.6)\n",
      "Requirement already satisfied: cytoolz<0.10,>=0.9.0 in c:\\users\\eman.aboelhamd\\appdata\\local\\continuum\\anaconda3\\lib\\site-packages (from thinc<6.11.0,>=6.10.3->spacy<=2.0.12,>2.0; extra == \"spacy\"->rasa_nlu[spacy]) (0.9.0.1)\n",
      "Requirement already satisfied: wrapt<1.11.0,>=1.10.0 in c:\\users\\eman.aboelhamd\\appdata\\local\\continuum\\anaconda3\\lib\\site-packages (from thinc<6.11.0,>=6.10.3->spacy<=2.0.12,>2.0; extra == \"spacy\"->rasa_nlu[spacy]) (1.10.11)\n",
      "Requirement already satisfied: msgpack-numpy<1.0.0,>=0.4.1 in c:\\users\\eman.aboelhamd\\appdata\\local\\continuum\\anaconda3\\lib\\site-packages (from thinc<6.11.0,>=6.10.3->spacy<=2.0.12,>2.0; extra == \"spacy\"->rasa_nlu[spacy]) (0.4.3.2)\n",
      "Requirement already satisfied: setuptools in c:\\users\\eman.aboelhamd\\appdata\\local\\continuum\\anaconda3\\lib\\site-packages (from zope.interface>=4.4.2->Twisted>=15.5->klein->rasa_nlu[spacy]) (39.1.0)\n",
      "Requirement already satisfied: toolz>=0.8.0 in c:\\users\\eman.aboelhamd\\appdata\\local\\continuum\\anaconda3\\lib\\site-packages (from cytoolz<0.10,>=0.9.0->thinc<6.11.0,>=6.10.3->spacy<=2.0.12,>2.0; extra == \"spacy\"->rasa_nlu[spacy]) (0.9.0)\n",
      "\n",
      "    Compatibility error\n",
      "    No compatible model found for 'en;' (spaCy v2.0.12).\n",
      "\n"
     ]
    }
   ],
   "source": [
    "# !pip install rasa_nlu[spacy];\n",
    "# !python -m spacy download en;"
   ]
  },
  {
   "cell_type": "code",
   "execution_count": 20,
   "metadata": {},
   "outputs": [
    {
     "name": "stderr",
     "output_type": "stream",
     "text": [
      "INFO:rasa_nlu.training_data.loading:Training data format of nlu.md is md\n",
      "INFO:rasa_nlu.training_data.training_data:Training data stats: \n",
      "\t- intent examples: 68 (6 distinct intents)\n",
      "\t- Found intents: 'mood_great', 'mood_unhappy', 'mood_deny', 'greet', 'goodbye', 'mood_affirm'\n",
      "\t- entity examples: 0 (0 distinct entities)\n",
      "\t- found entities: \n",
      "\n"
     ]
    },
    {
     "data": {
      "text/plain": [
       "<rasa_nlu.training_data.training_data.TrainingData at 0x1fe657f5828>"
      ]
     },
     "execution_count": 20,
     "metadata": {},
     "output_type": "execute_result"
    }
   ],
   "source": [
    "training_data = load_data('nlu.md')\n",
    "training_data"
   ]
  },
  {
   "cell_type": "code",
   "execution_count": 25,
   "metadata": {},
   "outputs": [],
   "source": [
    "pipeline = [{\"name\": \"nlp_spacy\"}, \n",
    "            {\"name\": \"tokenizer_spacy\"}, \n",
    "            {\"name\": \"intent_featurizer_spacy\"},  \n",
    "            {\"name\": \"intent_classifier_sklearn\"}]"
   ]
  },
  {
   "cell_type": "code",
   "execution_count": 26,
   "metadata": {},
   "outputs": [
    {
     "name": "stderr",
     "output_type": "stream",
     "text": [
      "INFO:rasa_nlu.utils.spacy_utils:Trying to load spacy model with name 'en'\n",
      "INFO:rasa_nlu.components:Added 'nlp_spacy' to component cache. Key 'nlp_spacy-en'.\n"
     ]
    },
    {
     "data": {
      "text/plain": [
       "<rasa_nlu.model.Trainer at 0x1fe6c04f320>"
      ]
     },
     "execution_count": 26,
     "metadata": {},
     "output_type": "execute_result"
    }
   ],
   "source": [
    "trainer = Trainer(RasaNLUModelConfig({\"pipeline\": pipeline}))\n",
    "trainer"
   ]
  },
  {
   "cell_type": "code",
   "execution_count": 27,
   "metadata": {},
   "outputs": [
    {
     "name": "stderr",
     "output_type": "stream",
     "text": [
      "INFO:rasa_nlu.model:Starting to train component nlp_spacy\n",
      "INFO:rasa_nlu.model:Finished training component.\n",
      "INFO:rasa_nlu.model:Starting to train component tokenizer_spacy\n",
      "INFO:rasa_nlu.model:Finished training component.\n",
      "INFO:rasa_nlu.model:Starting to train component intent_featurizer_spacy\n",
      "INFO:rasa_nlu.model:Finished training component.\n",
      "INFO:rasa_nlu.model:Starting to train component intent_classifier_sklearn\n"
     ]
    },
    {
     "name": "stdout",
     "output_type": "stream",
     "text": [
      "Fitting 2 folds for each of 6 candidates, totalling 12 fits\n"
     ]
    },
    {
     "name": "stderr",
     "output_type": "stream",
     "text": [
      "[Parallel(n_jobs=1)]: Done  12 out of  12 | elapsed:    0.0s finished\n",
      "INFO:rasa_nlu.model:Finished training component.\n"
     ]
    },
    {
     "data": {
      "text/plain": [
       "<rasa_nlu.model.Interpreter at 0x1fe73ec78d0>"
      ]
     },
     "execution_count": 27,
     "metadata": {},
     "output_type": "execute_result"
    }
   ],
   "source": [
    "interpreter = trainer.train(training_data)\n",
    "interpreter"
   ]
  },
  {
   "cell_type": "code",
   "execution_count": 28,
   "metadata": {},
   "outputs": [
    {
     "name": "stderr",
     "output_type": "stream",
     "text": [
      "INFO:rasa_nlu.model:Successfully saved model into 'C:\\Users\\eman.aboelhamd\\Rasa\\Travel Bot\\projects\\default\\default\\model_20181213-121334'\n"
     ]
    }
   ],
   "source": [
    "model_directory = trainer.persist('./projects/default/')"
   ]
  },
  {
   "cell_type": "code",
   "execution_count": 29,
   "metadata": {},
   "outputs": [
    {
     "name": "stderr",
     "output_type": "stream",
     "text": [
      "WARNING:rasa_core.agent:Passing a value for interpreter to an agent where the value is not an interpreter is deprecated. Construct the interpreter, beforepassing it to the agent, e.g. `interpreter = NaturalLanguageInterpreter.create(nlu)`.\n",
      "INFO:rasa_nlu.components:Added 'nlp_spacy' to component cache. Key 'nlp_spacy-en'.\n"
     ]
    },
    {
     "data": {
      "text/plain": [
       "<rasa_core.agent.Agent at 0x1fe5ce0a2e8>"
      ]
     },
     "execution_count": 29,
     "metadata": {},
     "output_type": "execute_result"
    }
   ],
   "source": [
    "agent = Agent.load('models/dialogue', interpreter=model_directory)\n",
    "agent"
   ]
  },
  {
   "cell_type": "markdown",
   "metadata": {},
   "source": [
    "## Talking to the Bot:\n",
    "\n",
    "NLU is added!"
   ]
  },
  {
   "cell_type": "code",
   "execution_count": 32,
   "metadata": {},
   "outputs": [
    {
     "name": "stdout",
     "output_type": "stream",
     "text": [
      "Your bot is ready to talk! Type your messages here or send 'stop'\n",
      "hey\n",
      "Hey! How are you?\n",
      "stop\n"
     ]
    }
   ],
   "source": [
    "print(\"Your bot is ready to talk! Type your messages here or send 'stop'\")\n",
    "while True:\n",
    "    a = input()\n",
    "    if a == 'stop':\n",
    "        break\n",
    "    responses = agent.handle_text(a)\n",
    "    for response in responses:\n",
    "        print(response[\"text\"])"
   ]
  },
  {
   "cell_type": "markdown",
   "metadata": {},
   "source": [
    "## Visualizing the stories:"
   ]
  },
  {
   "cell_type": "code",
   "execution_count": 34,
   "metadata": {},
   "outputs": [
    {
     "name": "stderr",
     "output_type": "stream",
     "text": [
      "WARNING:rasa_core.training.dsl:Skipping line 1. No valid command found. Line Content: 'stories_md = \"\"\"'\n",
      "WARNING:rasa_core.training.dsl:Skipping line 43. No valid command found. Line Content: '\"\"\"'\n",
      "Processed Story Blocks: 100%|█████████████████████████████████████████████| 5/5 [00:00<00:00, 557.06it/s, # trackers=1]\n"
     ]
    }
   ],
   "source": [
    "agent = Agent.load('models/dialogue')\n",
    "agent.visualize(\"stories.md\", \"story_graph.html\", max_history=2)"
   ]
  },
  {
   "cell_type": "code",
   "execution_count": 35,
   "metadata": {},
   "outputs": [
    {
     "data": {
      "text/html": [
       "\n",
       "        <iframe\n",
       "            width=\"1000\"\n",
       "            height=\"800\"\n",
       "            src=\"./story_graph.html\"\n",
       "            frameborder=\"0\"\n",
       "            allowfullscreen\n",
       "        ></iframe>\n",
       "        "
      ],
      "text/plain": [
       "<IPython.lib.display.IFrame at 0x1fe0f568748>"
      ]
     },
     "execution_count": 35,
     "metadata": {},
     "output_type": "execute_result"
    }
   ],
   "source": [
    "IFrame(src=\"./story_graph.html\", width=1000, height=800)"
   ]
  },
  {
   "cell_type": "markdown",
   "metadata": {},
   "source": [
    "End of the first tutorial!"
   ]
  },
  {
   "cell_type": "code",
   "execution_count": null,
   "metadata": {},
   "outputs": [],
   "source": []
  },
  {
   "cell_type": "code",
   "execution_count": null,
   "metadata": {},
   "outputs": [],
   "source": []
  }
 ],
 "metadata": {
  "kernelspec": {
   "display_name": "Python 3",
   "language": "python",
   "name": "python3"
  },
  "language_info": {
   "codemirror_mode": {
    "name": "ipython",
    "version": 3
   },
   "file_extension": ".py",
   "mimetype": "text/x-python",
   "name": "python",
   "nbconvert_exporter": "python",
   "pygments_lexer": "ipython3",
   "version": "3.6.5"
  }
 },
 "nbformat": 4,
 "nbformat_minor": 2
}
